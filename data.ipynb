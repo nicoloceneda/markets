{
 "cells": [
  {
   "cell_type": "markdown",
   "metadata": {},
   "source": [
    "## Setup"
   ]
  },
  {
   "cell_type": "code",
   "execution_count": 1,
   "metadata": {},
   "outputs": [],
   "source": [
    "# Import the libraries\n",
    "\n",
    "import numpy as np\n",
    "import pandas as pd\n",
    "import pandas_datareader as pdr\n",
    "import datetime"
   ]
  },
  {
   "cell_type": "code",
   "execution_count": 2,
   "metadata": {},
   "outputs": [],
   "source": [
    "# Visualization settings\n",
    "\n",
    "pd.set_option('display.max_rows', None, 'display.max_columns', None, 'display.width', None, 'display.precision', 4)"
   ]
  },
  {
   "cell_type": "code",
   "execution_count": 3,
   "metadata": {},
   "outputs": [],
   "source": [
    "# Time range\n",
    "\n",
    "start = datetime.date(2000, 1, 1)\n",
    "end = datetime.date.today()"
   ]
  },
  {
   "cell_type": "markdown",
   "metadata": {},
   "source": [
    "## Data"
   ]
  },
  {
   "cell_type": "markdown",
   "metadata": {},
   "source": [
    "### Yields and Fed Funds"
   ]
  },
  {
   "cell_type": "code",
   "execution_count": 4,
   "metadata": {},
   "outputs": [],
   "source": [
    "# Import the data\n",
    "\n",
    "yields = ['DGS1MO', 'DGS3MO', 'DGS6MO', 'DGS1', 'DGS2', 'DGS3', 'DGS5', 'DGS7', 'DGS10', 'DGS20', 'DGS30']\n",
    "fed_funds = ['DFF']\n",
    "\n",
    "df_yields = pdr.DataReader(yields, 'fred', start, end)\n",
    "df_fed_funds = pdr.DataReader(fed_funds, 'fred', start, end)"
   ]
  },
  {
   "cell_type": "code",
   "execution_count": 5,
   "metadata": {},
   "outputs": [],
   "source": [
    "# Rename variables\n",
    "\n",
    "var_names = {'DGS1MO': '1m', 'DGS3MO': '3m', 'DGS6MO': '6m',\n",
    "            'DGS1': '1y', 'DGS2': '2y', 'DGS3': '3y',\n",
    "            'DGS5': '5y', 'DGS7': '7y', 'DGS10': '10y',\n",
    "            'DGS20': '20y', 'DGS30': '30y'}\n",
    "df_yields.rename(columns=var_names, inplace=True)\n",
    "\n",
    "var_names = {'DFF': 'FedFunds'}\n",
    "df_fed_funds.rename(columns=var_names, inplace=True)"
   ]
  },
  {
   "cell_type": "code",
   "execution_count": 6,
   "metadata": {},
   "outputs": [],
   "source": [
    "# Drop rows with missing data\n",
    "\n",
    "df_yields = df_yields.dropna(how='any')\n",
    "df_fed_funds = df_fed_funds[df_fed_funds.index.isin(df_yields.index)]"
   ]
  },
  {
   "cell_type": "markdown",
   "metadata": {},
   "source": [
    "### Volatility of yields"
   ]
  },
  {
   "cell_type": "code",
   "execution_count": 7,
   "metadata": {},
   "outputs": [],
   "source": [
    "# Compute the rolling volatility of the term structure\n",
    "\n",
    "df_vol_252 = df_yields.rolling(window=252).std()\n",
    "df_vol_21 = df_yields.rolling(window=21).std()"
   ]
  },
  {
   "cell_type": "code",
   "execution_count": 8,
   "metadata": {},
   "outputs": [],
   "source": [
    "# Drop rows with missing data\n",
    "\n",
    "df_vol_252 = df_vol_252.dropna(how='any')\n",
    "df_vol_21 = df_vol_21[df_vol_21.index.isin(df_vol_252.index)]"
   ]
  },
  {
   "cell_type": "markdown",
   "metadata": {},
   "source": [
    "## Save the data"
   ]
  },
  {
   "cell_type": "code",
   "execution_count": 9,
   "metadata": {},
   "outputs": [],
   "source": [
    "# Save data\n",
    "\n",
    "df_yields.to_csv('data/yields.csv')\n",
    "df_fed_funds.to_csv('data/fed_funds.csv')\n",
    "df_vol_252.to_csv('data/vol_252.csv')\n",
    "df_vol_21.to_csv('data/vol_21.csv')"
   ]
  }
 ],
 "metadata": {
  "kernelspec": {
   "display_name": "envTS",
   "language": "python",
   "name": "python3"
  },
  "language_info": {
   "codemirror_mode": {
    "name": "ipython",
    "version": 3
   },
   "file_extension": ".py",
   "mimetype": "text/x-python",
   "name": "python",
   "nbconvert_exporter": "python",
   "pygments_lexer": "ipython3",
   "version": "3.12.3"
  }
 },
 "nbformat": 4,
 "nbformat_minor": 2
}
